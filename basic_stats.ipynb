{
 "cells": [
  {
   "cell_type": "code",
   "execution_count": 1,
   "id": "d396556d",
   "metadata": {},
   "outputs": [],
   "source": [
    "import numpy as np\n",
    "import pandas as pd\n",
    "\n",
    "#modules for statistics\n",
    "import math\n",
    "import statistics\n",
    "from scipy import stats"
   ]
  },
  {
   "cell_type": "markdown",
   "id": "945fa00f",
   "metadata": {},
   "source": [
    "# Mean, Median, Mode, and Central Tendency\n",
    "mean = average, balance point\n",
    "     = sum of all numbers/total number of values\n",
    "     = arithmetic mean\n",
    "median = middle number when all the values are ordered. outliers impact mean a decent amount\n"
   ]
  },
  {
   "cell_type": "code",
   "execution_count": 3,
   "id": "54907028",
   "metadata": {},
   "outputs": [],
   "source": [
    "belize_listings = \"belize_airbnb_listings.csv\"\n",
    "belize_df = pd.read_csv(belize_listings)"
   ]
  },
  {
   "cell_type": "code",
   "execution_count": 6,
   "id": "323ea092",
   "metadata": {},
   "outputs": [
    {
     "data": {
      "image/png": "[encoded data removed]",
      "text/plain": [
       "<Figure size 432x288 with 1 Axes>"
      ]
     },
     "metadata": {
      "needs_background": "light"
     },
     "output_type": "display_data"
    }
   ],
   "source": [
    "# get prics, minimum_nights, and number or reviews and find mean of all. \n",
    "\n",
    "import matplotlib.pyplot as plt\n",
    "n, bins, patches = plt.hist(x=belize_df['price'], bins='auto')\n",
    "plt.xlabel('price')\n",
    "plt.ylabel('frequency')\n",
    "plt.show()"
   ]
  },
  {
   "cell_type": "markdown",
   "id": "7cab94cc",
   "metadata": {},
   "source": [
    "# Variance\n",
    "\n",
    "Variance measures how dispersed data points are from the mean. Low variance means the data points are pretty tightly clusetered around the mean. High variance means the data points are pretty spread out from the mean. \n",
    "\n",
    "Variance is like sayin the data points are on average x away from the mean. \n",
    "\n",
    "Variance of 0 menas that all the data is the same. \n",
    "\n",
    "Degrees of freedom = number of independent pieces of information. "
   ]
  },
  {
   "cell_type": "code",
   "execution_count": 8,
   "id": "206268db",
   "metadata": {},
   "outputs": [],
   "source": [
    "# variance function\n",
    "def variance(data, ddof=0):\n",
    "    n = len(data)\n",
    "    mean = sum(data)/n\n",
    "    return sum((x-mean)**2 for x in data)/(n-ddof)"
   ]
  },
  {
   "cell_type": "code",
   "execution_count": 9,
   "id": "23887f0f",
   "metadata": {},
   "outputs": [
    {
     "data": {
      "text/plain": [
       "316996.1526270922"
      ]
     },
     "execution_count": 9,
     "metadata": {},
     "output_type": "execute_result"
    }
   ],
   "source": [
    "# population variance\n",
    "variance(belize_df['price'])"
   ]
  },
  {
   "cell_type": "code",
   "execution_count": 10,
   "id": "025b1cbd",
   "metadata": {},
   "outputs": [
    {
     "data": {
      "text/plain": [
       "316996.15262709244"
      ]
     },
     "execution_count": 10,
     "metadata": {},
     "output_type": "execute_result"
    }
   ],
   "source": [
    "statistics.pvariance(belize_df['price'])"
   ]
  },
  {
   "cell_type": "code",
   "execution_count": 11,
   "id": "1537a5c6",
   "metadata": {},
   "outputs": [
    {
     "data": {
      "text/plain": [
       "317109.568066315"
      ]
     },
     "execution_count": 11,
     "metadata": {},
     "output_type": "execute_result"
    }
   ],
   "source": [
    "statistics.variance(belize_df['price'])"
   ]
  },
  {
   "cell_type": "markdown",
   "id": "f151d15c",
   "metadata": {},
   "source": [
    "# Standard Deviation\n",
    "\n",
    "The rquare root of the variance. because square dollars does not make sense. We need to get rid of the square valued so we have an inuitive understanding of what we're talking aobut. \n",
    "\n",
    "Tells you how far, ov average, each value lies from the mean. "
   ]
  },
  {
   "cell_type": "code",
   "execution_count": 12,
   "id": "ee76ed26",
   "metadata": {},
   "outputs": [
    {
     "data": {
      "text/plain": [
       "563.0241137172478"
      ]
     },
     "execution_count": 12,
     "metadata": {},
     "output_type": "execute_result"
    }
   ],
   "source": [
    "#population standard deviation\n",
    "statistics.pstdev(belize_df['price'])"
   ]
  },
  {
   "cell_type": "code",
   "execution_count": 13,
   "id": "2b464dc4",
   "metadata": {},
   "outputs": [
    {
     "data": {
      "text/plain": [
       "563.1248245871558"
      ]
     },
     "execution_count": 13,
     "metadata": {},
     "output_type": "execute_result"
    }
   ],
   "source": [
    "statistics.stdev(belize_df['price'])"
   ]
  },
  {
   "cell_type": "markdown",
   "id": "44e15ebf",
   "metadata": {},
   "source": [
    "# Covariance and correlation\n",
    "\n",
    "Covariance is to correlation what variance is to standard deviation. \n",
    "\n",
    "Covariance tells us how much and to what extent two variables change together. In other words, how much wil one variable change as another variable changes. \n",
    "\n",
    "positive = variables changing in the same direction. \n",
    "\n",
    "negative = variables changeing in the opposite directions. \n",
    "\n",
    "correlation tells us how strong the relationship is between the variables. \n",
    "\n",
    "correlation = (covariance of x and y)/((standard deviation of x)(standard deviation of y))"
   ]
  },
  {
   "cell_type": "code",
   "execution_count": 14,
   "id": "4ccb716e",
   "metadata": {},
   "outputs": [
    {
     "data": {
      "text/plain": [
       "array([[   919.77350828,  -2055.7279794 ],\n",
       "       [ -2055.7279794 , 317109.56806632]])"
      ]
     },
     "execution_count": 14,
     "metadata": {},
     "output_type": "execute_result"
    }
   ],
   "source": [
    "np.cov(belize_df['number_of_reviews'], belize_df['price'])"
   ]
  },
  {
   "cell_type": "code",
   "execution_count": null,
   "id": "d51abf83",
   "metadata": {},
   "outputs": [],
   "source": [
    "np.corrcoef()"
   ]
  }
 ],
 "metadata": {
  "kernelspec": {
   "display_name": "Python 3 (ipykernel)",
   "language": "python",
   "name": "python3"
  },
  "language_info": {
   "codemirror_mode": {
    "name": "ipython",
    "version": 3
   },
   "file_extension": ".py",
   "mimetype": "text/x-python",
   "name": "python",
   "nbconvert_exporter": "python",
   "pygments_lexer": "ipython3",
   "version": "3.9.7"
  }
 },
 "nbformat": 4,
 "nbformat_minor": 5
}
