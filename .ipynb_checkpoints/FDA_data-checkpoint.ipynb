{
 "cells": [
  {
   "cell_type": "code",
   "execution_count": 22,
   "id": "6f4f8dc8",
   "metadata": {},
   "outputs": [],
   "source": [
    "# adding dependencies and modules. \n",
    "import matplotlib.pyplot as plt\n",
    "import pandas as pd\n",
    "import numpy as np\n",
    "import requests\n",
    "import time\n",
    "from pprint import pprint\n",
    "import seaborn as sns\n",
    "import statistics\n",
    "import math\n",
    "from scipy import stats\n",
    "\n",
    "# importing API key from the FDA \n",
    "from api_keys import api_key"
   ]
  },
  {
   "cell_type": "code",
   "execution_count": 36,
   "id": "e0d051dc",
   "metadata": {},
   "outputs": [
    {
     "name": "stdout",
     "output_type": "stream",
     "text": [
      "{'meta': {'disclaimer': 'Do not rely on openFDA to make decisions regarding medical care. While we make every effort to ensure that data is accurate, you should assume all results are unvalidated. We may limit or otherwise restrict your access to the API in line with our Terms of Service.', 'terms': 'https://open.fda.gov/terms/', 'license': 'https://open.fda.gov/license/', 'last_updated': '2021-10-27', 'results': {'skip': 0, 'limit': 1, 'total': 13703970}}, 'results': [{'receiptdateformat': '102', 'receiver': None, 'seriousnessdeath': '1', 'companynumb': 'JACAN16471', 'receivedateformat': '102', 'primarysource': {'reportercountry': 'CANADA', 'qualification': '3'}, 'transmissiondateformat': '102', 'fulfillexpeditecriteria': '1', 'safetyreportid': '5801206-7', 'sender': {'senderorganization': 'FDA-Public Use'}, 'receivedate': '20080707', 'patient': {'patientonsetage': '26', 'patientonsetageunit': '801', 'patientsex': '1', 'patientdeath': {'patientdeathdateformat': None, 'patientdeathdate': None}, 'reaction': [{'reactionmeddrapt': 'DRUG ADMINISTRATION ERROR'}, {'reactionmeddrapt': 'OVERDOSE'}], 'drug': [{'drugcharacterization': '1', 'medicinalproduct': 'DURAGESIC-100', 'drugauthorizationnumb': '019813', 'drugadministrationroute': '041', 'drugindication': 'DRUG ABUSE'}]}, 'transmissiondate': '20090109', 'serious': '1', 'receiptdate': '20080625'}]}\n"
     ]
    }
   ],
   "source": [
    "# calling the API\n",
    "base_url = \"https://api.fda.gov/drug/event.json\"\n",
    "req = requests.get(base_url)\n",
    "json_data = req.json()\n",
    "print(json_data)"
   ]
  },
  {
   "cell_type": "code",
   "execution_count": 45,
   "id": "8b495fc1",
   "metadata": {},
   "outputs": [
    {
     "name": "stdout",
     "output_type": "stream",
     "text": [
      "https://api.fda.gov/drug/event.json?&limit=1\n"
     ]
    }
   ],
   "source": [
    "base_url = \"https://api.fda.gov/drug/event.json?&limit=1\"\n",
    "print(base_url)"
   ]
  },
  {
   "cell_type": "code",
   "execution_count": null,
   "id": "2880f219",
   "metadata": {},
   "outputs": [],
   "source": []
  }
 ],
 "metadata": {
  "kernelspec": {
   "display_name": "Python 3 (ipykernel)",
   "language": "python",
   "name": "python3"
  },
  "language_info": {
   "codemirror_mode": {
    "name": "ipython",
    "version": 3
   },
   "file_extension": ".py",
   "mimetype": "text/x-python",
   "name": "python",
   "nbconvert_exporter": "python",
   "pygments_lexer": "ipython3",
   "version": "3.9.7"
  }
 },
 "nbformat": 4,
 "nbformat_minor": 5
}
